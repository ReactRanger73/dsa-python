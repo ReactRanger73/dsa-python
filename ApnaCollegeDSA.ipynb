{
 "cells": [
  {
   "cell_type": "markdown",
   "id": "2a47e7f9",
   "metadata": {},
   "source": [
    "## PATTERN PRINTING"
   ]
  },
  {
   "cell_type": "code",
   "execution_count": 2,
   "id": "37f91051",
   "metadata": {},
   "outputs": [
    {
     "name": "stdout",
     "output_type": "stream",
     "text": [
      "*\n",
      "**\n",
      "***\n",
      "****\n"
     ]
    }
   ],
   "source": [
    "\"\"\"\n",
    "STAR PATTERN\n",
    "*\n",
    "**\n",
    "***\n",
    "****\n",
    "\"\"\"\n",
    "n=4\n",
    "for i in range(1,n+1):\n",
    "    for j in range(1,i+1):\n",
    "        print(\"*\",end=\"\")\n",
    "    print()"
   ]
  },
  {
   "cell_type": "code",
   "execution_count": 8,
   "id": "706566cc",
   "metadata": {},
   "outputs": [
    {
     "name": "stdout",
     "output_type": "stream",
     "text": [
      "****\n",
      "***\n",
      "**\n",
      "*\n"
     ]
    }
   ],
   "source": [
    "\"\"\"\n",
    "INVERTED STAR PATTERN\n",
    "****\n",
    "***\n",
    "**\n",
    "*\n",
    "\"\"\"\n",
    "n=4\n",
    "for i in range(0,n):\n",
    "    for j in range(n-i):\n",
    "        print(\"*\",end=\"\")\n",
    "    print()"
   ]
  },
  {
   "cell_type": "code",
   "execution_count": 9,
   "id": "167af42d",
   "metadata": {},
   "outputs": [
    {
     "name": "stdout",
     "output_type": "stream",
     "text": [
      "1\n",
      "12\n",
      "123\n",
      "1234\n"
     ]
    }
   ],
   "source": [
    "\"\"\"\n",
    "HALF PYRAMID PATTERN\n",
    "1\n",
    "12\n",
    "123\n",
    "1234\n",
    "\"\"\"\n",
    "n=4\n",
    "for i in range(n):\n",
    "    for j in range(i+1):\n",
    "        print(j+1,end=\"\")\n",
    "    print()"
   ]
  },
  {
   "cell_type": "code",
   "execution_count": 14,
   "id": "2c0cbd9d",
   "metadata": {},
   "outputs": [
    {
     "name": "stdout",
     "output_type": "stream",
     "text": [
      "A\n",
      "BC\n",
      "DEF\n",
      "GHIJ\n"
     ]
    }
   ],
   "source": [
    "\"\"\"\n",
    "CHARACTER PATTERN\n",
    "A\n",
    "BC\n",
    "DEF\n",
    "GHIJ\n",
    "\"\"\"\n",
    "c=65\n",
    "n=4\n",
    "for i in range(n):\n",
    "    for j in range(i+1):\n",
    "        print(chr(c),end=\"\")\n",
    "        c+=1\n",
    "    print()"
   ]
  },
  {
   "cell_type": "markdown",
   "id": "8bccb99b",
   "metadata": {},
   "source": [
    "## ADVANCED PATTERN PRINTING"
   ]
  },
  {
   "cell_type": "code",
   "execution_count": 21,
   "id": "5f82a9a2",
   "metadata": {},
   "outputs": [
    {
     "name": "stdout",
     "output_type": "stream",
     "text": [
      "******\n",
      "*    *\n",
      "*    *\n",
      "*    *\n",
      "*    *\n",
      "******\n"
     ]
    }
   ],
   "source": [
    "\"\"\"\n",
    "HOLLOW RECTANGLE\n",
    "*****\n",
    "*   *\n",
    "*   *\n",
    "*****\n",
    "\"\"\"\n",
    "rows=6\n",
    "cols=6\n",
    "for row in range(1,rows+1):\n",
    "    for col in range(1,cols+1):\n",
    "        if row==1 or row==rows or col==1 or col==cols:\n",
    "            print(\"*\",end=\"\")\n",
    "        else:\n",
    "            print(\" \",end=\"\")\n",
    "    print()"
   ]
  },
  {
   "cell_type": "code",
   "execution_count": 24,
   "id": "c904262f",
   "metadata": {},
   "outputs": [
    {
     "name": "stdout",
     "output_type": "stream",
     "text": [
      "    *\n",
      "   **\n",
      "  ***\n",
      " ****\n",
      "*****\n"
     ]
    }
   ],
   "source": [
    "\"\"\"\n",
    "INVERTED AND ROTATED HALF PYRAMID PATTERN\n",
    "   *\n",
    "  **\n",
    " ***\n",
    "**** \n",
    "\"\"\"\n",
    "n=5\n",
    "for i in range(1,n+1):\n",
    "    for j in range(1,n-i+1):\n",
    "        print(\" \",end=\"\")\n",
    "    for k in range(1,i+1):\n",
    "        print(\"*\",end=\"\")\n",
    "    print()"
   ]
  },
  {
   "cell_type": "code",
   "execution_count": 185,
   "id": "d3c07e2c",
   "metadata": {},
   "outputs": [
    {
     "name": "stdout",
     "output_type": "stream",
     "text": [
      "12345\n",
      "1234\n",
      "123\n",
      "12\n",
      "1\n"
     ]
    }
   ],
   "source": [
    "\"\"\"\n",
    "INVERTED HALF PYRAMID WITH NUMBERS PATTERN\n",
    "12345\n",
    "1234\n",
    "123\n",
    "12\n",
    "1\n",
    "\"\"\"\n",
    "n=5\n",
    "for i in range(1,n+1):\n",
    "    for j in range(1,n+2-i):\n",
    "        print(j,end=\"\")\n",
    "    print()"
   ]
  },
  {
   "cell_type": "code",
   "execution_count": 39,
   "id": "547fa88c",
   "metadata": {},
   "outputs": [
    {
     "name": "stdout",
     "output_type": "stream",
     "text": [
      "1 \n",
      "2 3 \n",
      "4 5 6 \n",
      "7 8 9 10 \n",
      "11 12 13 14 15 \n",
      "16 17 18 19 20 21 \n"
     ]
    }
   ],
   "source": [
    "\"\"\"\n",
    "FLOYD'S TRIANGLE PATTERN\n",
    "1 \n",
    "2  3\n",
    "4  5  6\n",
    "7  8  9  10\n",
    "11 12 13 14  15\n",
    "\"\"\"\n",
    "count=1\n",
    "n=6\n",
    "for i in range(1,n+1):\n",
    "    for j in range(1,i+1):\n",
    "        print(str(count)+\" \",end=\"\")\n",
    "        count+=1\n",
    "    print()"
   ]
  },
  {
   "cell_type": "code",
   "execution_count": 40,
   "id": "edc8cb30",
   "metadata": {},
   "outputs": [
    {
     "name": "stdout",
     "output_type": "stream",
     "text": [
      "1\n",
      "01\n",
      "101\n",
      "0101\n",
      "10101\n"
     ]
    }
   ],
   "source": [
    "\"\"\"\n",
    "1\n",
    "01\n",
    "101\n",
    "0101\n",
    "10101\n",
    "\"\"\"\n",
    "n=5\n",
    "for i in range(1,n+1):\n",
    "    for j in range(1,i+1):\n",
    "        if(i-j)%2==0:\n",
    "            print(\"1\",end=\"\")\n",
    "        else:\n",
    "            print (\"0\",end=\"\")\n",
    "    print()"
   ]
  },
  {
   "cell_type": "code",
   "execution_count": 55,
   "id": "c5f421f9",
   "metadata": {},
   "outputs": [
    {
     "name": "stdout",
     "output_type": "stream",
     "text": [
      "*        *\n",
      "**      **\n",
      "***    ***\n",
      "****  ****\n",
      "**********\n",
      "**********\n",
      "****  ****\n",
      "***    ***\n",
      "**      **\n",
      "*        *\n"
     ]
    }
   ],
   "source": [
    "\"\"\"\n",
    "BUTTERFLY PATTERN\n",
    "*      *\n",
    "**    **\n",
    "***  ***\n",
    "********\n",
    "********\n",
    "***  ***\n",
    "**    **\n",
    "*      *\n",
    "\"\"\"\n",
    "r=10\n",
    "n=r//2\n",
    "for i in range(1,n+1):\n",
    "    for j in range(1,i+1):\n",
    "        print(\"*\",end=\"\")\n",
    "    for k in range(1,2*(n-i)+1):\n",
    "        print(\" \",end=\"\")\n",
    "    for j in range(1,i+1):\n",
    "        print(\"*\",end=\"\") \n",
    "    print()\n",
    "\n",
    "for i in range(n,0,-1):\n",
    "    for j in range(1,i+1):\n",
    "        print(\"*\",end=\"\")\n",
    "    for k in range(1,2*(n-i)+1):\n",
    "        print(\" \",end=\"\")\n",
    "    for j in range(1,i+1):\n",
    "        print(\"*\",end=\"\") \n",
    "    print()\n",
    "  "
   ]
  },
  {
   "cell_type": "code",
   "execution_count": 60,
   "id": "31e279f5",
   "metadata": {},
   "outputs": [
    {
     "name": "stdout",
     "output_type": "stream",
     "text": [
      "    *****\n",
      "   *****\n",
      "  *****\n",
      " *****\n",
      "*****\n"
     ]
    }
   ],
   "source": [
    "\"\"\"\n",
    "SOLID RHOMBUS PATTERN\n",
    "    *****\n",
    "   *****\n",
    "  *****\n",
    " *****\n",
    "***** \n",
    "\"\"\"\n",
    "n=5\n",
    "for i in range(1,n+1):\n",
    "    for j in range(1,n-i+1):\n",
    "        print(\" \",end=\"\")\n",
    "    print(\"*\"*n,end=\"\")\n",
    "    print()"
   ]
  },
  {
   "cell_type": "code",
   "execution_count": 63,
   "id": "ba30f957",
   "metadata": {},
   "outputs": [
    {
     "name": "stdout",
     "output_type": "stream",
     "text": [
      "    *****\n",
      "   *   *\n",
      "  *   *\n",
      " *   *\n",
      "*****\n"
     ]
    }
   ],
   "source": [
    "\"\"\"\n",
    "HOLLOW RHOMBUS PATTERN\n",
    "    *****\n",
    "   *   *\n",
    "  *   *\n",
    " *   *\n",
    "*****\n",
    "\"\"\"\n",
    "n=5\n",
    "for i in range(1,n+1):\n",
    "    for j in range(1,n-i+1):\n",
    "        print(\" \",end=\"\")\n",
    "    for j in range(1,n+1):\n",
    "        if j==1 or j==n or i==1 or i==n:\n",
    "            print(\"*\",end=\"\")\n",
    "        else:\n",
    "            print(\" \",end=\"\")\n",
    "    print()"
   ]
  },
  {
   "cell_type": "code",
   "execution_count": 84,
   "id": "16cfd616",
   "metadata": {
    "scrolled": true
   },
   "outputs": [
    {
     "name": "stdout",
     "output_type": "stream",
     "text": [
      "   *   \n",
      "  ***  \n",
      " ***** \n",
      "*******\n",
      "*******\n",
      " ***** \n",
      "  ***  \n",
      "   *   \n"
     ]
    }
   ],
   "source": [
    "\"\"\"\n",
    "DIAMOND PATTERN\n",
    "   *   \n",
    "  ***  \n",
    " ***** \n",
    "*******\n",
    "*******\n",
    " ***** \n",
    "  ***  \n",
    "   *       \n",
    "\"\"\"\n",
    "r=8\n",
    "n=r//2\n",
    "for i in range(1,n+1):\n",
    "    for j in range(1,n-i+1):\n",
    "        print(\" \",end=\"\")\n",
    "    for k in range(1,2*i):\n",
    "        print(\"*\",end=\"\")\n",
    "    for j in range(1,n-i+1):\n",
    "        print(\" \",end=\"\")\n",
    "    print()\n",
    "for i in range(n,0,-1):\n",
    "    for j in range(1,n-i+1):\n",
    "        print(\" \",end=\"\")\n",
    "    for k in range(1,2*i):\n",
    "        print(\"*\",end=\"\")\n",
    "    for j in range(1,n-i+1):\n",
    "        print(\" \",end=\"\")\n",
    "    print()"
   ]
  },
  {
   "cell_type": "code",
   "execution_count": 78,
   "id": "f0dcecef",
   "metadata": {},
   "outputs": [
    {
     "name": "stdout",
     "output_type": "stream",
     "text": [
      "  1 \n",
      " 2 3 \n",
      "4 5 6 \n",
      " 7 8 \n",
      "  9 \n"
     ]
    }
   ],
   "source": [
    "\"\"\"\n",
    "  1 \n",
    " 2 3\n",
    "4 5 6\n",
    " 7 8\n",
    "  9\n",
    "\"\"\"\n",
    "r=5\n",
    "count=1\n",
    "n=r//2+1\n",
    "for i in range(1,n+1):\n",
    "    for space in range(1,n-i+1):\n",
    "        print(\" \",end=\"\")\n",
    "    for j in range(1,i+1):\n",
    "        print(count,end=\" \")\n",
    "        count+=1\n",
    "    print()\n",
    "for i in range(n-1,0,-1):\n",
    "    for space in range(1,n-i+1):\n",
    "        print(\" \",end=\"\")\n",
    "    for j in range(1,i+1):\n",
    "        print(count,end=\" \")\n",
    "        count+=1\n",
    "    print()"
   ]
  },
  {
   "cell_type": "code",
   "execution_count": 83,
   "id": "cda0bfc0",
   "metadata": {},
   "outputs": [
    {
     "name": "stdout",
     "output_type": "stream",
     "text": [
      "   1\n",
      "  121\n",
      " 12321\n",
      "1234321\n"
     ]
    }
   ],
   "source": [
    "\"\"\"\n",
    "   1\n",
    "  121\n",
    " 12321\n",
    "1234321\n",
    "\"\"\"\n",
    "n=4\n",
    "for i in range(1,n+1):\n",
    "    for j in range(1,n-i+1):\n",
    "        print(\" \",end=\"\")\n",
    "    for num in range(1,i+1):\n",
    "        print(num,end=\"\")\n",
    "    for reverse in range(i-1,0,-1):\n",
    "        print(reverse,end=\"\")\n",
    "    print()"
   ]
  },
  {
   "cell_type": "markdown",
   "id": "612f1d28",
   "metadata": {},
   "source": [
    "## ARRAYS"
   ]
  },
  {
   "cell_type": "code",
   "execution_count": 85,
   "id": "61a7a934",
   "metadata": {},
   "outputs": [
    {
     "name": "stdout",
     "output_type": "stream",
     "text": [
      "Element found at index 2\n"
     ]
    }
   ],
   "source": [
    "\"\"\"\n",
    "LINEAR SEARCH\n",
    "Find the index of element in a given array.\n",
    "\"\"\"\n",
    "def linearSearch(array,element):\n",
    "    idx=-1\n",
    "    for i in range(len(array)):\n",
    "        if array[i] == element:\n",
    "            idx=i\n",
    "            break\n",
    "    if(idx==-1):\n",
    "        print(\"Element not found\")\n",
    "    else:\n",
    "        print(\"Element found at index\",idx)\n",
    "linearSearch([1,5,10,15,10,5],10)"
   ]
  },
  {
   "cell_type": "code",
   "execution_count": 93,
   "id": "04516c60",
   "metadata": {},
   "outputs": [
    {
     "name": "stdout",
     "output_type": "stream",
     "text": [
      "The largest number in the array is 15 at index 5\n"
     ]
    }
   ],
   "source": [
    "\"\"\"\n",
    "LARGEST IN ARRAY\n",
    "Find the largest number in a given array.\n",
    "\"\"\"\n",
    "def findLargest(array):\n",
    "    idx=0\n",
    "    largest=array[idx]\n",
    "    for i in range(len(array)):\n",
    "        if array[i]>largest:\n",
    "            largest=array[i]\n",
    "            idx=i\n",
    "    print(f\"The largest number in the array is {largest} at index {idx}\")\n",
    "findLargest([-5,10,1,2,-7,15])"
   ]
  },
  {
   "cell_type": "code",
   "execution_count": 101,
   "id": "d5eba265",
   "metadata": {},
   "outputs": [
    {
     "name": "stdout",
     "output_type": "stream",
     "text": [
      "Element found at index 7\n"
     ]
    }
   ],
   "source": [
    "\"\"\"\n",
    "BINARY SEARCH\n",
    "\"\"\"\n",
    "def binarySearch(array,n):\n",
    "    low = 0\n",
    "    high = len(array)-1\n",
    "    idx = -1\n",
    "    while(low<high):\n",
    "        mid = (low+high)//2\n",
    "        if array[mid]==n:\n",
    "            idx = mid\n",
    "            break\n",
    "        elif array[mid]>n:\n",
    "            high = mid-1\n",
    "        else:\n",
    "            low = mid+1\n",
    "    if idx==-1:\n",
    "        print(\"Element not found\")\n",
    "    else:\n",
    "        print(f\"Element found at index {idx}\")\n",
    "binarySearch([1,2,3,4,5,6,7,8,9,10],8)"
   ]
  },
  {
   "cell_type": "code",
   "execution_count": 111,
   "id": "8d5b9a46",
   "metadata": {},
   "outputs": [
    {
     "data": {
      "text/plain": [
       "[8, 9, 5, 1, 4, 2]"
      ]
     },
     "execution_count": 111,
     "metadata": {},
     "output_type": "execute_result"
    }
   ],
   "source": [
    "\"\"\"\n",
    "REVERSE AN ARRAY\n",
    "\"\"\"\n",
    "def reverse(array):\n",
    "    n=len(array)\n",
    "    for i in range(n//2):\n",
    "        temp = array[n-i-1]\n",
    "        array[n-i-1] = array[i]\n",
    "        array[i] = temp\n",
    "    return(array)\n",
    "reverse([2,4,1,5,9,8])"
   ]
  },
  {
   "cell_type": "code",
   "execution_count": 116,
   "id": "fc8bd48d",
   "metadata": {},
   "outputs": [
    {
     "data": {
      "text/plain": [
       "[[2, 4],\n",
       " [2, 6],\n",
       " [2, 8],\n",
       " [2, 10],\n",
       " [4, 6],\n",
       " [4, 8],\n",
       " [4, 10],\n",
       " [6, 8],\n",
       " [6, 10],\n",
       " [8, 10]]"
      ]
     },
     "execution_count": 116,
     "metadata": {},
     "output_type": "execute_result"
    }
   ],
   "source": [
    "\"\"\"\n",
    "PAIRS IN AN ARRAY\n",
    "[2,4,6,8,10] \n",
    "[2,4] [2,6] [2,8] [2,10]\n",
    "[4,6] [4,8] [4,10]\n",
    "[6,8] [6,10]\n",
    "[8,10]\n",
    "n*(n-1)/2\n",
    "\"\"\"\n",
    "def findPairs(array):\n",
    "    pairs = list()\n",
    "    for i in range(len(array)-1):\n",
    "        for j in range(i+1,len(array)):\n",
    "            pairs.append ([array[i],array[j]])\n",
    "    return pairs\n",
    "findPairs([2,4,6,8,10])"
   ]
  },
  {
   "cell_type": "code",
   "execution_count": 137,
   "id": "10a64371",
   "metadata": {},
   "outputs": [
    {
     "name": "stdout",
     "output_type": "stream",
     "text": [
      "[2] [2, 4] [2, 4, 6] [2, 4, 6, 8] [2, 4, 6, 8, 10] \n",
      "[4] [4, 6] [4, 6, 8] [4, 6, 8, 10] \n",
      "[6] [6, 8] [6, 8, 10] \n",
      "[8] [8, 10] \n",
      "[10] \n"
     ]
    }
   ],
   "source": [
    "\"\"\"\n",
    "PRINT SUBARRAYS\n",
    "[2,4,6,8,10]\n",
    "[2] [2,4] [2,4,6] [2,4,6,8] [2,4,6,8,10] --> 5\n",
    "[4] [4,6] [4,6,8] [4,6,8,10] --> 4\n",
    "[6] [6,8] [6,8,10] --> 3\n",
    "[8] [8,10] --> 2\n",
    "[10] --> 1\n",
    "for array of length n, number of subarrays = n*(n+1) / 2\n",
    "\"\"\"\n",
    "def subArrays(arr):\n",
    "    for i in range(len(arr)):\n",
    "        for j in range(i,len(arr)):\n",
    "            print(arr[i:j+1],end=\" \")\n",
    "        print()\n",
    "subArrays([2,4,6,8,10])"
   ]
  },
  {
   "cell_type": "code",
   "execution_count": 133,
   "id": "cd7c0855",
   "metadata": {},
   "outputs": [
    {
     "name": "stdout",
     "output_type": "stream",
     "text": [
      "The maximum sum is 20 and the minimum sum is -10\n"
     ]
    }
   ],
   "source": [
    "\"\"\"\n",
    "MAX AND MIN SUM OF SUBARRAYS (BRUTE FORCE APPROACH)\n",
    "[2,4,6,8,10]\n",
    "max sum -> [2,4,6,8,10] -> 30\n",
    "min sum -> [2] -> 2\n",
    "\"\"\"\n",
    "def func(arr):\n",
    "    largest = arr[0]\n",
    "    smallest = arr[0]\n",
    "    for i in range(len(arr)):\n",
    "        for j in range(i,len(arr)):\n",
    "            #print(arr[i:j+1],end=\" \")\n",
    "            total = sum(arr[i:j+1])\n",
    "            if total>largest:\n",
    "                largest = total\n",
    "            if total<smallest:\n",
    "                smallest = total\n",
    "        #print()\n",
    "    print(f\"The maximum sum is {largest} and the minimum sum is {smallest}\")\n",
    "func([2,4,6,8,-10,10,-3,-5])"
   ]
  },
  {
   "cell_type": "code",
   "execution_count": 144,
   "id": "688c1cdf",
   "metadata": {},
   "outputs": [
    {
     "name": "stdout",
     "output_type": "stream",
     "text": [
      "[1, -1]\n",
      "1\n",
      "[1, -1, 5]\n",
      "5\n",
      "[1, -1, 5, 4]\n",
      "5\n",
      "[1, -1, 5, 4, 7]\n",
      "7\n"
     ]
    },
    {
     "data": {
      "text/plain": [
       "[1, -1, 5, 4, 7]"
      ]
     },
     "execution_count": 144,
     "metadata": {},
     "output_type": "execute_result"
    }
   ],
   "source": [
    "\"\"\"\n",
    "MAXIMUM SUM (PREFIX SUM APPROACH)\n",
    "\"\"\"\n",
    "def func(arr):\n",
    "    prefix = list()\n",
    "    prefix.append(arr[0])\n",
    "    largest = prefix[0]\n",
    "    for i in range(1,len(arr)):\n",
    "            prefix.append(prefix[i-1] + arr[i])\n",
    "            if prefix[i]>largest:\n",
    "                largest = prefix[i]\n",
    "            print(prefix)\n",
    "            print(largest)\n",
    "    return prefix\n",
    "func([1,-2,6,-1,3])"
   ]
  },
  {
   "cell_type": "code",
   "execution_count": 188,
   "id": "3ba906b6",
   "metadata": {},
   "outputs": [
    {
     "name": "stdout",
     "output_type": "stream",
     "text": [
      "Maximum sum is -1\n",
      "Maximum sum is 18\n",
      "Maximum sum is 8\n"
     ]
    }
   ],
   "source": [
    "\"\"\"\n",
    "MAXIMUM SUM (KADANE'S ALGORITHM)\n",
    "\"\"\"\n",
    "def func(arr):\n",
    "    currentSum = 0\n",
    "    maxSum = 0\n",
    "    positive=0\n",
    "    for i in range(len(arr)):\n",
    "        if arr[i]>=0:\n",
    "            positive = 1\n",
    "            break\n",
    "    else:\n",
    "        print(\"Maximum sum is\",max(arr))\n",
    "    \n",
    "    if positive==1:\n",
    "        for i in range(len(arr)):\n",
    "            currentSum += arr[i]\n",
    "            if(currentSum<0):\n",
    "                currentSum = 0\n",
    "            else:\n",
    "                if currentSum > maxSum:\n",
    "                    maxSum = currentSum \n",
    "#             print(\"Current\",currentSum)\n",
    "#             print(\"Maxiumum\",maxSum)\n",
    "        print(\"Maximum sum is\",maxSum)\n",
    "func([-2,-3,-5,-1])\n",
    "func([-2,4,-6,8,10])\n",
    "func([-3, -4, 5, -1, 2, -4, 6, -1])"
   ]
  },
  {
   "cell_type": "code",
   "execution_count": 27,
   "id": "23aa934a",
   "metadata": {},
   "outputs": [
    {
     "name": "stdout",
     "output_type": "stream",
     "text": [
      "[4, 4, 4, 6, 6, 6, 6]\n",
      "[6, 6, 6, 6, 5, 5, 5]\n",
      "11\n"
     ]
    }
   ],
   "source": [
    "\"\"\"\n",
    "TRAPPING RAINWATER PROBLEM\n",
    "height --> [4,2,0,6,3,2,5]\n",
    "rainwater trapped = 11\n",
    "\"\"\"\n",
    "def rainwater(height):\n",
    "    n = len(height)\n",
    "    left = list()\n",
    "    right = list()\n",
    "    trapped = 0\n",
    "    left.append(height[0])\n",
    "    right.append(height[n-1])\n",
    "    for i in range(1,n):\n",
    "        left.append(max(height[:i+1]))\n",
    "    print(left)\n",
    "    for j in range(n-2,-1,-1):\n",
    "        right.append(max(height[j:]))\n",
    "    right = right[::-1]\n",
    "    print(right)\n",
    "    for i in range(len(height)):\n",
    "        waterLevel = min(left[i],right[i])\n",
    "        if(waterLevel-height[i])<0:\n",
    "            trapped += 0\n",
    "        else:\n",
    "            trapped += waterLevel-height[i]\n",
    "    print(trapped)\n",
    "rainwater([4,2,0,6,3,2,5])"
   ]
  },
  {
   "cell_type": "code",
   "execution_count": 28,
   "id": "a8adb831",
   "metadata": {},
   "outputs": [
    {
     "data": {
      "text/plain": [
       "5"
      ]
     },
     "execution_count": 28,
     "metadata": {},
     "output_type": "execute_result"
    }
   ],
   "source": [
    "\"\"\"\n",
    "BEST TIME TO BUY AND SELL STOCKS\n",
    "\"\"\"\n",
    "def stocks(prices):\n",
    "    buyPrice = prices[0]\n",
    "    maxProfit = 0\n",
    "    for i in range(1,len(prices)):\n",
    "        if buyPrice<prices[i]:\n",
    "            profit = prices[i] - buyPrice\n",
    "            maxProfit = max(profit,maxProfit)\n",
    "        else:\n",
    "            buyPrice = prices[i]\n",
    "    return maxProfit\n",
    "stocks([7,1,5,3,6,4])"
   ]
  },
  {
   "cell_type": "markdown",
   "id": "3a9f0e9c",
   "metadata": {},
   "source": [
    "# 2D ARRAYS"
   ]
  },
  {
   "cell_type": "code",
   "execution_count": 6,
   "id": "689374c0",
   "metadata": {},
   "outputs": [
    {
     "name": "stdout",
     "output_type": "stream",
     "text": [
      "1 2 3 4 8 12 11 10 9 5 6 7 6 "
     ]
    }
   ],
   "source": [
    "\"\"\"\n",
    "SPIRAL MATRIX\n",
    "\"\"\"\n",
    "def spiral( matrix):\n",
    "    startRow=0\n",
    "    endRow=len(matrix)-1\n",
    "    startCol=0\n",
    "    endCol=len(matrix[0])-1\n",
    "    while(startRow<=endRow and startCol<=endCol):\n",
    "        #top\n",
    "        for j in range(startCol,endCol+1):\n",
    "            print(matrix[startRow][j],end=\" \")\n",
    "            \n",
    "            \n",
    "        #right\n",
    "        for i in range(startRow+1,endRow+1):\n",
    "            print(matrix[i][endCol],end=\" \")\n",
    "            \n",
    "        #bottom\n",
    "        for j in range(endCol-1,startCol-1,-1):\n",
    "            if(startCol==endCol):\n",
    "                break\n",
    "            print(matrix[endRow][j],end=\" \")\n",
    "                  \n",
    "        #left\n",
    "        for i in range(endRow-1,startCol,-1):\n",
    "            if(startRow==endRow):\n",
    "                break\n",
    "            print(matrix[i][startCol],end=\" \")\n",
    "        \n",
    "        startRow+=1\n",
    "        startCol+=1\n",
    "        endRow-=1\n",
    "        endCol-=1\n",
    "                  \n",
    "spiral([[1,2,3,4],[5,6,7,8],[9,10,11,12]])\n",
    "#spiral([[1,2,3],[4,5,6],[7,8,9]])\n",
    "#spiral([[1,2,3,4],[5,6,7,8]])"
   ]
  },
  {
   "cell_type": "code",
   "execution_count": 10,
   "id": "2a081977",
   "metadata": {},
   "outputs": [
    {
     "data": {
      "text/plain": [
       "68"
      ]
     },
     "execution_count": 10,
     "metadata": {},
     "output_type": "execute_result"
    }
   ],
   "source": [
    "\"\"\"\n",
    "DIAGONAL SUM (BRUTE-FORCE APPROACH)\n",
    "\"\"\"\n",
    "def diagonalSum(matrix):\n",
    "    sum = 0\n",
    "    for i in range(0,len(matrix)):\n",
    "        for j in range(0,len(matrix[0])):\n",
    "            #primary diagonal\n",
    "            if (i==j):\n",
    "                sum += matrix[i][j]\n",
    "            #secondary diagonal\n",
    "            elif (i+j)==len(matrix)-1:\n",
    "                sum += matrix[i][j]\n",
    "    return sum\n",
    "diagonalSum([[1,2,3,4],[5,6,7,8],[9,10,11,12],[13,14,15,16]])"
   ]
  },
  {
   "cell_type": "code",
   "execution_count": 12,
   "id": "93d36103",
   "metadata": {},
   "outputs": [
    {
     "data": {
      "text/plain": [
       "30"
      ]
     },
     "execution_count": 12,
     "metadata": {},
     "output_type": "execute_result"
    }
   ],
   "source": [
    "\"\"\"\n",
    "DIAGONAL SUM (LINEAR TIME APPROACH)\n",
    "\"\"\"\n",
    "def diagonalSum(matrix):\n",
    "    sum = 0\n",
    "    n = len(matrix)\n",
    "    for i in range(n):\n",
    "        #primary diagonal\n",
    "        sum += matrix[i][i]\n",
    "        #secondary diagonal\n",
    "        if i!=(n-1-i):\n",
    "            sum += matrix[i][n-1-i]\n",
    "    return sum\n",
    "diagonalSum([[1,2,3],[5,6,7],[9,10,11]])"
   ]
  },
  {
   "cell_type": "code",
   "execution_count": 1,
   "id": "335dab77",
   "metadata": {},
   "outputs": [
    {
     "name": "stdout",
     "output_type": "stream",
     "text": [
      "Key found at 3 2\n"
     ]
    }
   ],
   "source": [
    "\"\"\"\n",
    "STAIRCASE SEARCH (WITH TOP RIGHT ELEMENT)\n",
    "\"\"\"\n",
    "def staircaseSearch(matrix,key):\n",
    "    col = len(matrix[0])-1\n",
    "    row = 0\n",
    "    while row<=len(matrix)-1 and col>=0:\n",
    "        if matrix[row][col] == key:\n",
    "            print(\"Key found at\",row,col)\n",
    "            return\n",
    "        elif matrix[row][col] > key:\n",
    "            col -= 1\n",
    "        elif matrix[row][col] < key:\n",
    "            row += 1\n",
    "    print(\"Key not found\")\n",
    "staircaseSearch([[1,2,3,4],[5,6,7,8],[9,10,11,12],[13,14,15,16]],15)"
   ]
  },
  {
   "cell_type": "code",
   "execution_count": 19,
   "id": "e664b8a8",
   "metadata": {},
   "outputs": [
    {
     "name": "stdout",
     "output_type": "stream",
     "text": [
      "Key found at 3 0\n"
     ]
    }
   ],
   "source": [
    "\"\"\"\n",
    "STAIRCASE SEARCH (WITH BOTTOM LEFT ELEMENT)\n",
    "\"\"\"\n",
    "def staircaseSearch(matrix,key):\n",
    "    col = 0\n",
    "    row = len(matrix)-1\n",
    "    while row>=0 and col<=len(matrix[0]):\n",
    "        if matrix[row][col] == key:\n",
    "            print(\"Key found at\",row,col)\n",
    "            return\n",
    "        elif matrix[row][col] > key:\n",
    "            row -= 1\n",
    "        elif matrix[row][col] < key:\n",
    "            col += 1\n",
    "    print(\"Key not found\")\n",
    "staircaseSearch([[1,2,3,4],[5,6,7,8],[9,10,11,12],[13,14,15,16]],13)"
   ]
  },
  {
   "cell_type": "code",
   "execution_count": 21,
   "id": "1d45e344",
   "metadata": {},
   "outputs": [
    {
     "data": {
      "text/plain": [
       "2"
      ]
     },
     "execution_count": 21,
     "metadata": {},
     "output_type": "execute_result"
    }
   ],
   "source": [
    "\"\"\"\n",
    "Print the number of 7s in a 2D array\n",
    "\"\"\"\n",
    "def find7(matrix):\n",
    "    count = 0\n",
    "    for row in range(0,len(matrix)):\n",
    "        for col in range(0,len(matrix[0])):\n",
    "            if matrix[row][col]==7:\n",
    "                count += 1\n",
    "    return count\n",
    "find7([[4,7,8],[8,8,7]])"
   ]
  },
  {
   "cell_type": "code",
   "execution_count": 22,
   "id": "f4784f20",
   "metadata": {},
   "outputs": [
    {
     "data": {
      "text/plain": [
       "18"
      ]
     },
     "execution_count": 22,
     "metadata": {},
     "output_type": "execute_result"
    }
   ],
   "source": [
    "\"\"\"\n",
    "Print out sum of numbers in the second row\n",
    "\"\"\"\n",
    "def sumRow(matrix):\n",
    "    return sum(matrix[1])\n",
    "sumRow([[1,4,9],[11,4,3],[2,2,3]])"
   ]
  },
  {
   "cell_type": "code",
   "execution_count": 36,
   "id": "757ee385",
   "metadata": {},
   "outputs": [
    {
     "data": {
      "text/plain": [
       "[[8, 7, 5], [8, 7, 5], [8, 7, 5]]"
      ]
     },
     "execution_count": 36,
     "metadata": {},
     "output_type": "execute_result"
    }
   ],
   "source": [
    "\"\"\"\n",
    "Find transpose of a matrix\n",
    "\"\"\"\n",
    "def transpose(matrix):\n",
    "    tMatrix = [len(matrix)*[0]]*len(matrix[0])\n",
    "#     print(tMatrix)\n",
    "    for row in range(len(matrix)):\n",
    "        for col in range(len(matrix[0])):\n",
    "            tMatrix[col][row] = matrix[row][col]\n",
    "#             print(tMatrix)\n",
    "    return tMatrix \n",
    "transpose([[4,7,8],[8,8,7],[3,4,5]])"
   ]
  },
  {
   "cell_type": "markdown",
   "id": "f89d4c73",
   "metadata": {},
   "source": [
    "# Recursion"
   ]
  },
  {
   "cell_type": "code",
   "execution_count": 2,
   "id": "80bca979",
   "metadata": {},
   "outputs": [
    {
     "name": "stdout",
     "output_type": "stream",
     "text": [
      "5\n",
      "4\n",
      "3\n",
      "2\n",
      "1\n"
     ]
    }
   ],
   "source": [
    "\"\"\"\n",
    "Print numbers in decreasing order\n",
    "\"\"\"\n",
    "def printDecreasing(n):\n",
    "    if n==1:\n",
    "        print(1)\n",
    "        return \n",
    "    else:\n",
    "        print(n)\n",
    "        printDecreasing(n-1)\n",
    "printDecreasing(5)"
   ]
  },
  {
   "cell_type": "code",
   "execution_count": 3,
   "id": "cf0fc67f",
   "metadata": {},
   "outputs": [
    {
     "name": "stdout",
     "output_type": "stream",
     "text": [
      "1\n",
      "2\n",
      "3\n",
      "4\n",
      "5\n"
     ]
    }
   ],
   "source": [
    "\"\"\"\n",
    "Print numbers in increasing order\n",
    "\"\"\"\n",
    "def printIncreasing(n):\n",
    "    if n==1:\n",
    "        print(1)\n",
    "        return \n",
    "    else:\n",
    "        printIncreasing(n-1)\n",
    "        print(n)\n",
    "printIncreasing(5)"
   ]
  },
  {
   "cell_type": "code",
   "execution_count": 65,
   "id": "ad68c2aa",
   "metadata": {},
   "outputs": [
    {
     "data": {
      "text/plain": [
       "720"
      ]
     },
     "execution_count": 65,
     "metadata": {},
     "output_type": "execute_result"
    }
   ],
   "source": [
    "\"\"\"\n",
    "Find factorial of a number\n",
    "\"\"\"\n",
    "def fact(n):\n",
    "    if n==0:\n",
    "        return 1\n",
    "    else:\n",
    "        return n*fact(n-1)\n",
    "fact(6)"
   ]
  },
  {
   "cell_type": "code",
   "execution_count": 66,
   "id": "86403ec8",
   "metadata": {},
   "outputs": [
    {
     "data": {
      "text/plain": [
       "55"
      ]
     },
     "execution_count": 66,
     "metadata": {},
     "output_type": "execute_result"
    }
   ],
   "source": [
    "\"\"\"\n",
    "Find sum of n natural numbers\n",
    "\"\"\"\n",
    "def sumNatural(n):\n",
    "    if n==1:\n",
    "        return 1\n",
    "    else:\n",
    "        return n + sumNatural(n-1)\n",
    "sumNatural(10)"
   ]
  },
  {
   "cell_type": "code",
   "execution_count": 73,
   "id": "51bde6da",
   "metadata": {},
   "outputs": [
    {
     "data": {
      "text/plain": [
       "21"
      ]
     },
     "execution_count": 73,
     "metadata": {},
     "output_type": "execute_result"
    }
   ],
   "source": [
    "\"\"\"\n",
    "Print nth Fibonacci number\n",
    "\"\"\"\n",
    "def fib(n):\n",
    "    if n==0:\n",
    "        return 0\n",
    "    elif n==1 or n==2:\n",
    "        return 1\n",
    "    else:\n",
    "        return fib(n-1)+fib(n-2)\n",
    "fib(8)"
   ]
  },
  {
   "cell_type": "code",
   "execution_count": 93,
   "id": "70791f64",
   "metadata": {},
   "outputs": [
    {
     "name": "stdout",
     "output_type": "stream",
     "text": [
      "sorted\n",
      "unsorted\n"
     ]
    }
   ],
   "source": [
    "\"\"\"\n",
    "Check if given array is sorted or not\n",
    "\"\"\"\n",
    "def sortedArray(arr):\n",
    "    s = \"sorted\"\n",
    "    if len(arr)==1:\n",
    "        print(s)\n",
    "    else:\n",
    "        if arr[-1]>arr[-2]:\n",
    "            sortedArray(arr[:-1])\n",
    "        else:\n",
    "            s = \"unsorted\"\n",
    "            print(s)\n",
    "sortedArray([5,10,15,20,25])\n",
    "sortedArray([5,10,15,20,18])"
   ]
  },
  {
   "cell_type": "code",
   "execution_count": 97,
   "id": "043b9f1e",
   "metadata": {},
   "outputs": [
    {
     "name": "stdout",
     "output_type": "stream",
     "text": [
      "2\n",
      "-1\n"
     ]
    }
   ],
   "source": [
    "\"\"\"\n",
    "Find occurence of first element in an array\n",
    "\"\"\"\n",
    "def firstOccurence(arr,key,i):\n",
    "    if i==len(arr):\n",
    "        return -1\n",
    "    elif arr[i]==key:\n",
    "        return i \n",
    "    else:\n",
    "        return firstOccurence(arr,key,i+1)\n",
    "print(firstOccurence([5,10,15,20],15,0))\n",
    "print(firstOccurence([5,10,15,20],25,0))"
   ]
  },
  {
   "cell_type": "code",
   "execution_count": 99,
   "id": "106f97e2",
   "metadata": {},
   "outputs": [
    {
     "name": "stdout",
     "output_type": "stream",
     "text": [
      "1\n",
      "2\n",
      "8\n",
      "16\n"
     ]
    }
   ],
   "source": [
    "\"\"\"\n",
    "Print x to the power n\n",
    "\"\"\"\n",
    "def power(x,n):\n",
    "    if n==0:\n",
    "        return 1\n",
    "    elif n%2==0:\n",
    "        return power(x*x,n/2)\n",
    "    else:\n",
    "        return x*power(x*x,(n-1)/2)\n",
    "print(power(2,0))\n",
    "print(power(2,1))\n",
    "print(power(2,3))\n",
    "print(power(2,4))"
   ]
  },
  {
   "cell_type": "code",
   "execution_count": 81,
   "id": "90ca0a7e",
   "metadata": {},
   "outputs": [
    {
     "data": {
      "text/plain": [
       "'apncoleg'"
      ]
     },
     "execution_count": 81,
     "metadata": {},
     "output_type": "execute_result"
    }
   ],
   "source": [
    "\"\"\"\n",
    "Removing duplicates in a string\n",
    "\"\"\"\n",
    "def removeDuplicates(string):\n",
    "    s = \"\"\n",
    "    trace = [0]*26\n",
    "    for letter in string:\n",
    "        char = ord(letter)-ord(\"a\")\n",
    "        if trace[char]==0:\n",
    "            s+=letter\n",
    "            trace[char]+=1\n",
    "    return s\n",
    "removeDuplicates(\"appnacollege\")"
   ]
  },
  {
   "cell_type": "markdown",
   "id": "756c77bf",
   "metadata": {},
   "source": [
    "# Greedy Algorithm"
   ]
  },
  {
   "cell_type": "markdown",
   "id": "25b2f5f3",
   "metadata": {},
   "source": [
    "* Starts finding `local optimum` in the hopes of reaching `global optimum`\n",
    "* Most optimal solution is not guaranteed \n",
    "* Can be time consuming and resource intensive\n",
    "* Always needs sorting "
   ]
  },
  {
   "cell_type": "code",
   "execution_count": 101,
   "id": "3a060840",
   "metadata": {},
   "outputs": [
    {
     "name": "stdout",
     "output_type": "stream",
     "text": [
      "[[2, 1, 0], [4, 3, 1], [6, 0, 2], [7, 5, 3], [9, 5, 5], [9, 8, 4]]\n",
      "Maximum activities:  4\n",
      "Following activities will be chosen:  [0, 1, 3, 4]\n"
     ]
    }
   ],
   "source": [
    "\"\"\"\n",
    "Activity selection\n",
    "\"\"\"\n",
    "def activitySelection(start,end):\n",
    "    #Activities are sorted on the basis of end time\n",
    "    ans = list()\n",
    "    maxAct = 0\n",
    "    activity = list()\n",
    "    #sorting activities\n",
    "    for i in range(len(start)):\n",
    "        activity.append([end[i],start[i],i])\n",
    "    activity.sort()\n",
    "    print(activity)\n",
    "    \n",
    "    #First activity is chosen\n",
    "    maxAct = 1\n",
    "    ans.append(activity[0][2])\n",
    "    lastEnd = activity[0][0]\n",
    "    \n",
    "    #Choosing from other activities\n",
    "    for i in range(1,len(start)):\n",
    "        if activity[i][1]>=lastEnd: #checking for non-overlapping activities \n",
    "            ans.append(activity[i][2])\n",
    "            lastEnd = activity[i][0]\n",
    "            maxAct+=1\n",
    "    print(\"Maximum activities: \",maxAct)\n",
    "    print(\"Following activities will be chosen: \",ans)\n",
    "activitySelection([1,3,0,5,8,5],[2,4,6,7,9,9])"
   ]
  },
  {
   "cell_type": "code",
   "execution_count": 129,
   "id": "b06f2349",
   "metadata": {},
   "outputs": [
    {
     "name": "stdout",
     "output_type": "stream",
     "text": [
      "Ratios [[4.0, 2], [5.0, 1], [6.0, 0]]\n",
      "Value is 240\n"
     ]
    }
   ],
   "source": [
    "\"\"\"\n",
    "Fractional Knapsack\n",
    "\"\"\"\n",
    "def fractionalKnapsack(weights,values,capacity):\n",
    "    ratios = list()\n",
    "    total = 0\n",
    "    \n",
    "    #calculating profit by weight ratio\n",
    "    for i in range(len(weights)):\n",
    "        ratio = values[i]/weights[i]\n",
    "        ratios.append([ratio,i])\n",
    "        \n",
    "    #sorting the ratios\n",
    "    ratios.sort()\n",
    "    print(\"Ratios\",ratios)\n",
    "    \n",
    "    for i in range(len(ratios)-1,-1,-1):\n",
    "        idx = int(ratios[i][1])\n",
    "        if capacity>=weights[idx]:\n",
    "            capacity -= weights[idx]\n",
    "            total += values[idx]\n",
    "        else:\n",
    "            total += capacity*ratios[i][0]\n",
    "            capacity=0\n",
    "            break\n",
    "    print(\"Value is\",int(total))\n",
    "fractionalKnapsack([10,20,30],[60,100,120],50)"
   ]
  },
  {
   "cell_type": "code",
   "execution_count": 159,
   "id": "09a06211",
   "metadata": {},
   "outputs": [
    {
     "data": {
      "text/plain": [
       "6"
      ]
     },
     "execution_count": 159,
     "metadata": {},
     "output_type": "execute_result"
    }
   ],
   "source": [
    "\"\"\"\n",
    "MINIMUM ABSOLUTE DIFFERENCE\n",
    "\"\"\"\n",
    "def minDiff(nums1,nums2):\n",
    "    nums1.sort()\n",
    "    nums2.sort()\n",
    "    diff = 0\n",
    "    for i in range(len(nums1)):\n",
    "        diff+= abs(nums1[i]-nums2[i])\n",
    "    return diff\n",
    "minDiff([4,1,8,7],[2,3,6,5])"
   ]
  },
  {
   "cell_type": "code",
   "execution_count": 167,
   "id": "d1739d4e",
   "metadata": {},
   "outputs": [
    {
     "name": "stdout",
     "output_type": "stream",
     "text": [
      "Maximum length:  3\n",
      "Following pairs will be chosen:  [0, 3, 4]\n"
     ]
    }
   ],
   "source": [
    "\"\"\"\n",
    "MAXIMUM LENGTH OF PAIR CHAIN\n",
    "\"\"\"\n",
    "def maxChain(arrays):\n",
    "    pairs = list()\n",
    "    for i in range(len(arrays)):\n",
    "        pairs.append([arrays[i][1],arrays[i][0],i])\n",
    "    pairs.sort()\n",
    "    \n",
    "    #initialising length and chain\n",
    "    length = 0\n",
    "    chain = list()\n",
    "\n",
    "    #choosing first pair\n",
    "    lastEnd = pairs[0][0]\n",
    "    length = 1\n",
    "    chain.append(pairs[0][2])\n",
    "    \n",
    "    for i in range(1,len(pairs)):\n",
    "        if pairs[i][1]>lastEnd:\n",
    "            length+=1\n",
    "            chain.append(pairs[i][2])\n",
    "            lastEnd = pairs[i][0]\n",
    "    print(\"Maximum length: \",length)\n",
    "    print(\"Following pairs will be chosen: \",chain)\n",
    "maxChain([[5,24],[39,60],[5,28],[27,40],[50,90]])"
   ]
  },
  {
   "cell_type": "code",
   "execution_count": 176,
   "id": "a03c309f",
   "metadata": {},
   "outputs": [
    {
     "data": {
      "text/plain": [
       "4"
      ]
     },
     "execution_count": 176,
     "metadata": {},
     "output_type": "execute_result"
    }
   ],
   "source": [
    "\"\"\"\n",
    "INDIAN COINS\n",
    "\"\"\"\n",
    "def indianCoins(coins,amount):\n",
    "    coins.sort(reverse=True)\n",
    "    count=0\n",
    "    for i in range(len(coins)):\n",
    "        if coins[i]<=amount:\n",
    "            while(coins[i]<=amount):\n",
    "                amount-=coins[i]\n",
    "                count+=1\n",
    "    return count\n",
    "indianCoins([1,2,5,10,20,50,100,500,2000],590)"
   ]
  },
  {
   "cell_type": "code",
   "execution_count": 184,
   "id": "4a19d3d3",
   "metadata": {},
   "outputs": [
    {
     "name": "stdout",
     "output_type": "stream",
     "text": [
      "Jobs selected [2, 0]\n",
      "Maximum profit is 60\n"
     ]
    }
   ],
   "source": [
    "\"\"\"\n",
    "JOB SEQUENCING PROBLEM\n",
    "\"\"\"\n",
    "def jobSequencing(array):\n",
    "    jobs = list()\n",
    "    for i in range(len(array)):\n",
    "        jobs.append([i,array[i][0],array[i][1]]) \n",
    "    jobs.sort(key = lambda job: job[2],reverse=True)\n",
    "    time = 0\n",
    "    profit = 0\n",
    "    selected = list()\n",
    "    for i in range(len(jobs)):\n",
    "        if time<jobs[i][1]:\n",
    "            selected.append(jobs[i][0])\n",
    "            time+=jobs[i][1]\n",
    "            profit+=jobs[i][2]\n",
    "    print(\"Jobs selected\",selected)\n",
    "    print(\"Maximum profit is\",profit)\n",
    "jobSequencing([[4,20],[1,10],[1,40],[1,30]])"
   ]
  },
  {
   "cell_type": "code",
   "execution_count": 257,
   "id": "f7dd13e9",
   "metadata": {},
   "outputs": [
    {
     "data": {
      "text/plain": [
       "42"
      ]
     },
     "execution_count": 257,
     "metadata": {},
     "output_type": "execute_result"
    }
   ],
   "source": [
    "\"\"\"\n",
    "CHOCOLA PROBLEM\n",
    "\"\"\"\n",
    "def chocola(n,m,horizontal,vertical):\n",
    "    h = 0\n",
    "    v = 0\n",
    "    hp = 1\n",
    "    vp = 1\n",
    "    cost = 0\n",
    "    horizontal.sort(reverse=True)\n",
    "    vertical.sort(reverse=True)\n",
    "    while(h<len(horizontal) and v<len(vertical)):\n",
    "        if vertical[v]<=horizontal[h]:\n",
    "            cost += horizontal[h]*vp\n",
    "            h+=1\n",
    "            hp+=1\n",
    "        else:\n",
    "            cost += vertical[v]*hp\n",
    "            v+=1\n",
    "            vp+=1\n",
    "    while h<len(horizontal):\n",
    "            cost += horizontal[h]*vp\n",
    "            h+=1\n",
    "            hp+=1\n",
    "    while v<len(vertical):\n",
    "            cost += vertical[v]*hp\n",
    "            v+=1\n",
    "            vp+=1\n",
    "    return cost\n",
    "\n",
    "chocola(4,6,[4,1,2],[2,1,3,1,4])"
   ]
  },
  {
   "cell_type": "markdown",
   "id": "1d641365",
   "metadata": {},
   "source": [
    "# Strings"
   ]
  },
  {
   "cell_type": "code",
   "execution_count": 268,
   "id": "5b6c574f",
   "metadata": {},
   "outputs": [
    {
     "data": {
      "text/plain": [
       "True"
      ]
     },
     "execution_count": 268,
     "metadata": {},
     "output_type": "execute_result"
    }
   ],
   "source": [
    "\"\"\"\n",
    "Check if given string is a palindrome.\n",
    "\"\"\"\n",
    "def isPalindrome(string):\n",
    "    n = len(string)\n",
    "    mid = n//2\n",
    "    flag = 1\n",
    "    for i in range(mid):\n",
    "        if string[i]!=string[n-1-i]:\n",
    "            flag = 0\n",
    "            break\n",
    "    return bool(flag)\n",
    "isPalindrome(\"racecar\")"
   ]
  },
  {
   "cell_type": "code",
   "execution_count": 270,
   "id": "d408e864",
   "metadata": {},
   "outputs": [
    {
     "data": {
      "text/plain": [
       "5"
      ]
     },
     "execution_count": 270,
     "metadata": {},
     "output_type": "execute_result"
    }
   ],
   "source": [
    "\"\"\"\n",
    "Shortest Path\n",
    "\"\"\"\n",
    "import math\n",
    "def shortest(string):\n",
    "    x = 0\n",
    "    y = 0\n",
    "    for char in string.lower():\n",
    "        if char==\"w\":\n",
    "            x-=1\n",
    "        elif char==\"e\":\n",
    "            x+=1\n",
    "        elif char==\"n\":\n",
    "            y+=1\n",
    "        elif char==\"s\":\n",
    "            y-=1\n",
    "        else:\n",
    "            pass\n",
    "    path = int(math.sqrt(x**2+y**2))\n",
    "    return path\n",
    "shortest(\"WNEENESENNN\")"
   ]
  },
  {
   "cell_type": "code",
   "execution_count": 1,
   "id": "1502750c",
   "metadata": {},
   "outputs": [
    {
     "data": {
      "text/plain": [
       "'\\nSTRING COMPRESSION\\n\\ndef compress(chars):\\n    i=0\\n    while i<len(chars)-1:\\n        count=1\\n        slow = i\\n        fast = i+1\\n        while(slow<len(chars) and chars[slow]==chars[fast]):\\n            fast += 1\\n            count += 1\\n        if count>1:\\n            chars[slow+1] = count\\n            i = fast\\n        else:\\n            i+=1\\n    return chars\\ncompress([\"a\",\"a\",\"b\",\"b\",\"c\",\"c\",\"c\"])\\n'"
      ]
     },
     "execution_count": 1,
     "metadata": {},
     "output_type": "execute_result"
    }
   ],
   "source": [
    "\"\"\"\n",
    "STRING COMPRESSION\n",
    "\n",
    "def compress(chars):\n",
    "    i=0\n",
    "    while i<len(chars)-1:\n",
    "        count=1\n",
    "        slow = i\n",
    "        fast = i+1\n",
    "        while(slow<len(chars) and chars[slow]==chars[fast]):\n",
    "            fast += 1\n",
    "            count += 1\n",
    "        if count>1:\n",
    "            chars[slow+1] = count\n",
    "            i = fast\n",
    "        else:\n",
    "            i+=1\n",
    "    return chars\n",
    "compress([\"a\",\"a\",\"b\",\"b\",\"c\",\"c\",\"c\"])\n",
    "\"\"\""
   ]
  },
  {
   "cell_type": "markdown",
   "id": "5acfd644",
   "metadata": {},
   "source": [
    "# Backtracking"
   ]
  },
  {
   "cell_type": "code",
   "execution_count": 7,
   "id": "ed43802d",
   "metadata": {},
   "outputs": [
    {
     "name": "stdout",
     "output_type": "stream",
     "text": [
      "[1, 2, 3, 4, 5]\n",
      "[-1, 0, 1, 2, 3]\n"
     ]
    }
   ],
   "source": [
    "arr = [0]*5\n",
    "def changeArray(arr,i,val):\n",
    "    if i==len(arr):\n",
    "        print(arr)\n",
    "        return\n",
    "    arr[i] = val\n",
    "    val+=1\n",
    "    changeArray(arr,i+1,val)\n",
    "    arr[i]-=2\n",
    "changeArray(arr,0,1)\n",
    "print(arr)"
   ]
  },
  {
   "cell_type": "code",
   "execution_count": 8,
   "id": "f0156d4b",
   "metadata": {},
   "outputs": [
    {
     "name": "stdout",
     "output_type": "stream",
     "text": [
      "abc\n",
      "ab\n",
      "ac\n",
      "a\n",
      "bc\n",
      "b\n",
      "c\n",
      "null\n"
     ]
    }
   ],
   "source": [
    "\"\"\"\n",
    "Find subsets of a string.\n",
    "\"\"\"\n",
    "def findSubsets(s,ans,i):\n",
    "    #base case\n",
    "    if i==len(s):\n",
    "        if ans==\"\":\n",
    "            print(\"null\")\n",
    "        else:\n",
    "            print(ans)\n",
    "        return\n",
    "    #backtracking\n",
    "    findSubsets(s,ans+s[i],i+1) #yes choice\n",
    "    findSubsets(s,ans,i+1) #no choice\n",
    "findSubsets(\"abc\",\"\",0)"
   ]
  },
  {
   "cell_type": "code",
   "execution_count": 186,
   "id": "b42cea2d",
   "metadata": {},
   "outputs": [
    {
     "data": {
      "text/plain": [
       "[[1, 2, 3], [1, 2], [1, 3], [1], [2, 3], [2], [3], []]"
      ]
     },
     "execution_count": 186,
     "metadata": {},
     "output_type": "execute_result"
    }
   ],
   "source": [
    "def subsets(nums):\n",
    "    ans = []\n",
    "    def helper(nums,lst,i):\n",
    "        #print(ans)\n",
    "        if i==len(nums):\n",
    "            ans.append(lst)\n",
    "            return\n",
    "\n",
    "        helper(nums,lst+[nums[i]],i+1) #yes\n",
    "        helper(nums,lst,i+1) #no\n",
    "\n",
    "    helper(nums,[],0)\n",
    "    return ans\n",
    "subsets([1,2,3])"
   ]
  },
  {
   "cell_type": "code",
   "execution_count": 188,
   "id": "c3b60b3c",
   "metadata": {},
   "outputs": [
    {
     "name": "stdout",
     "output_type": "stream",
     "text": [
      "abc\n",
      "acb\n",
      "bac\n",
      "bca\n",
      "cab\n",
      "cba\n"
     ]
    }
   ],
   "source": [
    "\"\"\"\n",
    "Find permutations of a string.\n",
    "\"\"\"\n",
    "def permutation(string,ans):\n",
    "    if len(string)==0:\n",
    "        print(ans)\n",
    "        return\n",
    "    for i in range(len(string)):\n",
    "        char = string[i]\n",
    "        new = string[:i]+string[i+1:]\n",
    "        permutation(new,ans+char)\n",
    "permutation(\"abc\",\"\")   "
   ]
  },
  {
   "cell_type": "code",
   "execution_count": 191,
   "id": "921b86b0",
   "metadata": {},
   "outputs": [
    {
     "name": "stdout",
     "output_type": "stream",
     "text": [
      "[[1, 2, 3]]\n",
      "[[1, 2, 3], [1, 3, 2]]\n",
      "[[1, 2, 3], [1, 3, 2], [2, 1, 3]]\n",
      "[[1, 2, 3], [1, 3, 2], [2, 1, 3], [2, 3, 1]]\n",
      "[[1, 2, 3], [1, 3, 2], [2, 1, 3], [2, 3, 1], [3, 1, 2]]\n",
      "[[1, 2, 3], [1, 3, 2], [2, 1, 3], [2, 3, 1], [3, 1, 2], [3, 2, 1]]\n"
     ]
    }
   ],
   "source": [
    "def permute(nums):\n",
    "    permutations = []\n",
    "    def find(nums,ans):\n",
    "        if len(nums)==0:\n",
    "            permutations.append(ans)\n",
    "            print(permutations)\n",
    "            return\n",
    "        for i in range(len(nums)):\n",
    "            lst = nums[i]\n",
    "            new = nums[:i]+nums[i+1:]\n",
    "            find(new,ans+[lst])\n",
    "    find(nums,[])\n",
    "permute([1,2,3])"
   ]
  },
  {
   "cell_type": "code",
   "execution_count": 19,
   "id": "3d04cd58",
   "metadata": {
    "scrolled": false
   },
   "outputs": [
    {
     "name": "stdout",
     "output_type": "stream",
     "text": [
      "-----chess board-----\n",
      "Q X \n",
      "Q X \n",
      "-----chess board-----\n",
      "Q X \n",
      "X Q \n",
      "-----chess board-----\n",
      "X Q \n",
      "Q X \n",
      "-----chess board-----\n",
      "X Q \n",
      "X Q \n"
     ]
    }
   ],
   "source": [
    "\"\"\"\n",
    "N QUEENS\n",
    "\"\"\"\n",
    "def printBoard(board):\n",
    "    print(\"-----chess board-----\")\n",
    "    for i in range(len(board)):\n",
    "        for j in range(len(board)):\n",
    "            print(board[i][j],end = \" \")\n",
    "        print()\n",
    "        \n",
    "def isSafe(board,row,col):\n",
    "    for i in range(row-1,-1,-1):\n",
    "        if board\n",
    "    \n",
    "def nQueens(board,row):\n",
    "    #base case\n",
    "    if row==len(board):\n",
    "        printBoard(board)\n",
    "        return\n",
    "    \n",
    "    #column loop\n",
    "    for j in range(len(board)):\n",
    "        if isSafe(board,row,col):\n",
    "            board[row][j] = \"Q\"\n",
    "            nQueens(board,row+1) #function call\n",
    "            board[row][j] = \"X\"  #backtracking step\n",
    "        \n",
    "n = 2       \n",
    "board = [[\"X\"] * n for _ in range(n)]\n",
    "#printBoard(board)\n",
    "nQueens(board,0)"
   ]
  },
  {
   "cell_type": "markdown",
   "id": "6d7f56ce",
   "metadata": {},
   "source": [
    "# Divide and Conquer"
   ]
  },
  {
   "cell_type": "code",
   "execution_count": 2,
   "id": "759e09d7",
   "metadata": {},
   "outputs": [
    {
     "name": "stdout",
     "output_type": "stream",
     "text": [
      "[2, 3, 5, 6, 8, 9]\n"
     ]
    }
   ],
   "source": [
    "\"\"\"\n",
    "Merge sort\n",
    "\"\"\"\n",
    "def mergeSort(arr,start,end):\n",
    "    if start>=end:\n",
    "        return\n",
    "    mid = start + ((end-start)//2)\n",
    "    mergeSort(arr,start,mid) #left part\n",
    "    mergeSort(arr,mid+1,end) #right part\n",
    "    merge(arr,start,mid,end)\n",
    "    \n",
    "def merge(arr,start,mid,end):\n",
    "    temp = [0]*(end-start+1)\n",
    "    k = 0 #pointer for auxiliary array\n",
    "    i = start #pointer for left array\n",
    "    j = mid+1 #pointer for right array\n",
    "    while(i<=mid and j<=end):\n",
    "        if arr[i]<arr[j]:\n",
    "            temp[k] = arr[i]\n",
    "            i+=1\n",
    "        else:\n",
    "            temp[k] = arr[j]\n",
    "            j+=1\n",
    "        k+=1\n",
    "    while(i<=mid):\n",
    "        temp[k]=arr[i]\n",
    "        i+=1\n",
    "        k+=1\n",
    "    while(j<=end):\n",
    "        temp[k]=arr[j]\n",
    "        j+=1\n",
    "        k+=1\n",
    "    \n",
    "    i = start\n",
    "    for k in range(len(temp)):\n",
    "        arr[i] = temp[k]\n",
    "        i+=1\n",
    "    \n",
    "arr = [6,3,9,5,2,8]\n",
    "mergeSort(arr,0,len(arr)-1)\n",
    "print(arr)"
   ]
  },
  {
   "cell_type": "code",
   "execution_count": null,
   "id": "3d00e9cf",
   "metadata": {},
   "outputs": [],
   "source": [
    "\"\"\"\n",
    "QUICK SORT\n",
    "\"\"\"\n"
   ]
  },
  {
   "cell_type": "markdown",
   "id": "b83a7cc2",
   "metadata": {},
   "source": [
    "# Sorting algorithms"
   ]
  },
  {
   "cell_type": "code",
   "execution_count": 2,
   "id": "0ca371f8",
   "metadata": {},
   "outputs": [
    {
     "data": {
      "text/plain": [
       "[1, 2, 3, 4, 5]"
      ]
     },
     "execution_count": 2,
     "metadata": {},
     "output_type": "execute_result"
    }
   ],
   "source": [
    "\"\"\"\n",
    "BUBBLE SORT\n",
    "\"\"\"\n",
    "def bubbleSort(arr):\n",
    "    swap = 0\n",
    "    n = len(arr)\n",
    "    for i in range(n-1):\n",
    "        for j in range(n-i-1):\n",
    "            if arr[j]>arr[j+1]:\n",
    "                temp  = arr[j]\n",
    "                arr[j] = arr[j+1]\n",
    "                arr[j+1] = temp\n",
    "                swap = 1\n",
    "        if swap==0:\n",
    "            break\n",
    "    return arr\n",
    "bubbleSort([5,4,1,3,2])"
   ]
  },
  {
   "cell_type": "code",
   "execution_count": 4,
   "id": "385f8abf",
   "metadata": {},
   "outputs": [
    {
     "data": {
      "text/plain": [
       "[1, 2, 3, 4, 5]"
      ]
     },
     "execution_count": 4,
     "metadata": {},
     "output_type": "execute_result"
    }
   ],
   "source": [
    "\"\"\"\n",
    "SELECTION SORT\n",
    "\"\"\"\n",
    "def selectionSort(arr):\n",
    "    n = len(arr)\n",
    "    for i in range(n-1):\n",
    "        mi = i\n",
    "        for j in range(i+1,n):\n",
    "            if arr[mi]>arr[j]:\n",
    "                mi = j\n",
    "        temp = arr[i]\n",
    "        arr[i] = arr[mi]\n",
    "        arr[mi] = temp\n",
    "    return arr\n",
    "selectionSort([5,4,1,3,2])"
   ]
  },
  {
   "cell_type": "code",
   "execution_count": 8,
   "id": "fc8585b7",
   "metadata": {},
   "outputs": [
    {
     "data": {
      "text/plain": [
       "[1, 2, 3, 4, 5, 6, 7, 9]"
      ]
     },
     "execution_count": 8,
     "metadata": {},
     "output_type": "execute_result"
    }
   ],
   "source": [
    "\"\"\"\n",
    "INSERTION SORT\n",
    "\"\"\"\n",
    "def insertionSort(arr):\n",
    "    n = len(arr)\n",
    "    for i in range(1,n):\n",
    "        curr = arr[i]\n",
    "        prev = i-1\n",
    "        #finding the correct position to insert\n",
    "        while(prev>=0 and curr<arr[prev]):\n",
    "            arr[prev+1] = arr[prev]\n",
    "            prev-=1\n",
    "        #insertion\n",
    "        arr[prev+1] = curr\n",
    "    return arr\n",
    "insertionSort([5,4,1,3,2,7,6,9])"
   ]
  },
  {
   "cell_type": "code",
   "execution_count": 11,
   "id": "446a7f8e",
   "metadata": {},
   "outputs": [
    {
     "data": {
      "text/plain": [
       "[1, 1, 2, 2, 3, 4, 5, 7]"
      ]
     },
     "execution_count": 11,
     "metadata": {},
     "output_type": "execute_result"
    }
   ],
   "source": [
    "\"\"\"\n",
    "COUNTING SORT\n",
    "\"\"\"\n",
    "def countingSort(arr):\n",
    "    n = len(arr)\n",
    "    count = [0]*(max(arr)+1)\n",
    "    #calculating frequency of each element\n",
    "    for i in range(len(arr)):\n",
    "        count[arr[i]] += 1\n",
    "    #updating original array\n",
    "    j = 0\n",
    "    for i in range(len(count)):\n",
    "        while(count[i]>0):\n",
    "            arr[j] = i\n",
    "            j+=1\n",
    "            count[i]-=1\n",
    "    return arr\n",
    "countingSort([5,4,1,3,2,7,1,2])"
   ]
  },
  {
   "cell_type": "markdown",
   "id": "ef878b56",
   "metadata": {},
   "source": [
    "# Dynamic Programming"
   ]
  },
  {
   "cell_type": "code",
   "execution_count": 2,
   "id": "26a4e373",
   "metadata": {},
   "outputs": [
    {
     "data": {
      "text/plain": [
       "5"
      ]
     },
     "execution_count": 2,
     "metadata": {},
     "output_type": "execute_result"
    }
   ],
   "source": [
    "\"\"\"\n",
    "Fibonacci series using memoization\n",
    "\"\"\"\n",
    "def fib(n,f):\n",
    "    if n==0 or n==1:\n",
    "        return n\n",
    "    if f[n]!=0:\n",
    "        return f[n]\n",
    "    f[n] = fib(n-1,f) + fib(n-2,f)\n",
    "    return f[n]\n",
    "#driver code\n",
    "n = 5\n",
    "f = [0]*(n+1)\n",
    "fib(n,f)"
   ]
  },
  {
   "cell_type": "code",
   "execution_count": 6,
   "id": "4eca5c59",
   "metadata": {},
   "outputs": [
    {
     "data": {
      "text/plain": [
       "5"
      ]
     },
     "execution_count": 6,
     "metadata": {},
     "output_type": "execute_result"
    }
   ],
   "source": [
    "\"\"\"\n",
    "Fibonacci series using tabulation\n",
    "\"\"\"\n",
    "def fib(n):\n",
    "    dp = [0]*(n+1)\n",
    "    dp[0], dp[1] = 0, 1\n",
    "    ans = 0\n",
    "    for i in range(2,n+1):\n",
    "        dp[i]= dp[i-1] + dp[i-2]\n",
    "    ans = dp[n]\n",
    "    return ans\n",
    "fib(5)"
   ]
  },
  {
   "cell_type": "code",
   "execution_count": 3,
   "id": "25475c9d",
   "metadata": {},
   "outputs": [
    {
     "data": {
      "text/plain": [
       "2"
      ]
     },
     "execution_count": 3,
     "metadata": {},
     "output_type": "execute_result"
    }
   ],
   "source": [
    "\"\"\"\n",
    "Climbing stairs using tabulation\n",
    "\"\"\"\n",
    "def ways(n):\n",
    "    dp = [0]*(n+1)\n",
    "    dp[0], dp[1] = 1, 1\n",
    "    for i in range(2,n+1):\n",
    "        dp[i] = dp[i-1]+dp[i-2]\n",
    "    return dp[n]\n",
    "ways(2)"
   ]
  },
  {
   "cell_type": "code",
   "execution_count": 15,
   "id": "5401db70",
   "metadata": {},
   "outputs": [
    {
     "data": {
      "text/plain": [
       "75"
      ]
     },
     "execution_count": 15,
     "metadata": {},
     "output_type": "execute_result"
    }
   ],
   "source": [
    "\"\"\"\n",
    "0-1 KNAPSACK USING RECURSION\n",
    "\"\"\"\n",
    "def knapsack(val,wt,W,n):\n",
    "    if W==0 or n==0:\n",
    "        return 0\n",
    "    else:\n",
    "        if wt[n-1]<=W: #valid case\n",
    "            #include\n",
    "            ans1 = val[n-1] + knapsack(val,wt,W-wt[n-1],n-1)\n",
    "            #exclude\n",
    "            ans2 = knapsack(val,wt,W,n-1)\n",
    "            return max(ans1,ans2)\n",
    "        else: #invalid case\n",
    "            return knapsack(val,wt,W,n-1)   \n",
    "        \n",
    "val = [15, 14, 10, 45, 30]\n",
    "wt = [2,5,1,3,4]\n",
    "W = 7\n",
    "n = len(val)\n",
    "knapsack(val,wt,W,n)"
   ]
  },
  {
   "cell_type": "code",
   "execution_count": 17,
   "id": "47952c55",
   "metadata": {},
   "outputs": [
    {
     "data": {
      "text/plain": [
       "75"
      ]
     },
     "execution_count": 17,
     "metadata": {},
     "output_type": "execute_result"
    }
   ],
   "source": [
    "\"\"\"\n",
    "0-1 KNAPSACK USING MEMOIZATION\n",
    "\"\"\"\n",
    "def knapsack(val,wt,W,n,dp):\n",
    "    if W==0 or n==0:\n",
    "        return 0\n",
    "    if (dp[n][W] != -1):\n",
    "        return dp[n][W]\n",
    "    else:\n",
    "        if wt[n-1]<=W: #valid case\n",
    "            #include\n",
    "            ans1 = val[n-1] + knapsack(val,wt,W-wt[n-1],n-1,dp)\n",
    "            #exclude\n",
    "            ans2 = knapsack(val,wt,W,n-1,dp)\n",
    "            dp[n][W] = max(ans1,ans2)\n",
    "            return dp[n][W]\n",
    "        else: #invalid case\n",
    "            dp[n][W] = knapsack(val,wt,W,n-1,dp) \n",
    "            return dp[n][W]\n",
    "        \n",
    "val = [15, 14, 10, 45, 30]\n",
    "wt = [2,5,1,3,4]\n",
    "W = 7\n",
    "n = len(val)\n",
    "dp = [[-1] * (W + 1) for i in range(n + 1)]\n",
    "knapsack(val,wt,W,n,dp)"
   ]
  },
  {
   "cell_type": "code",
   "execution_count": 20,
   "id": "7b677d74",
   "metadata": {},
   "outputs": [
    {
     "data": {
      "text/plain": [
       "75"
      ]
     },
     "execution_count": 20,
     "metadata": {},
     "output_type": "execute_result"
    }
   ],
   "source": [
    "\"\"\"\n",
    "0-1 KNAPSACK USING TABULATION\n",
    "\"\"\"\n",
    "def knapsack(val,wt,W):\n",
    "    for i in range(n+1):\n",
    "        dp[i][0] = 0\n",
    "    for j in range(W+1):\n",
    "        dp[0][j] = 0\n",
    "    for i in range(1,n+1):\n",
    "        for j in range(1,W+1):\n",
    "            v = val[i-1] #value of ith item\n",
    "            w = wt[i-1] #weight of ith item\n",
    "            if w<=j: #valid case\n",
    "                p1 = v + dp[i-1][j-w] #included profit\n",
    "                p2 = dp[i-1][j] #excluded profit\n",
    "                dp[i][j] = max(p1,p2)\n",
    "            else: #invalid case\n",
    "                p = dp[i-1][j] #excluded profit\n",
    "                dp[i][j] = p\n",
    "#     print(dp)\n",
    "    return dp[n][W]\n",
    "val = [15, 14, 10, 45, 30]\n",
    "wt = [2,5,1,3,4]\n",
    "W = 7\n",
    "n = len(val)\n",
    "dp = [[-1] * (W + 1) for i in range(n + 1)]\n",
    "knapsack(val,wt,W)"
   ]
  },
  {
   "cell_type": "code",
   "execution_count": 25,
   "id": "c9aebddb",
   "metadata": {},
   "outputs": [
    {
     "data": {
      "text/plain": [
       "True"
      ]
     },
     "execution_count": 25,
     "metadata": {},
     "output_type": "execute_result"
    }
   ],
   "source": [
    "\"\"\"\n",
    "TARGET SUM SUBSET\n",
    "\"\"\"\n",
    "def targetSumSubset(val,targetSum):\n",
    "    n = len(val)\n",
    "    dp = [[False]*(targetSum+1) for _ in range(n+1)]\n",
    "    for i in range(n+1):\n",
    "        dp[i][0] = True\n",
    "    for i in range(1,n+1):\n",
    "        for j in range(1,targetSum+1):\n",
    "            v = val[i-1]\n",
    "            if v<=targetSum and dp[i-1][j-v]: #include\n",
    "                dp[i][j] = True\n",
    "            elif dp[i-1][j]: #exclude\n",
    "                dp[i][j] = True\n",
    "#     for i in range(n+1):\n",
    "#         print(dp[i])\n",
    "    return dp[n][targetSum]\n",
    "val = [4,2,7,1,3]\n",
    "targetSum = 10\n",
    "targetSumSubset(val,targetSum)"
   ]
  },
  {
   "cell_type": "code",
   "execution_count": null,
   "id": "598a6e25",
   "metadata": {},
   "outputs": [],
   "source": []
  }
 ],
 "metadata": {
  "kernelspec": {
   "display_name": "Python 3 (ipykernel)",
   "language": "python",
   "name": "python3"
  },
  "language_info": {
   "codemirror_mode": {
    "name": "ipython",
    "version": 3
   },
   "file_extension": ".py",
   "mimetype": "text/x-python",
   "name": "python",
   "nbconvert_exporter": "python",
   "pygments_lexer": "ipython3",
   "version": "3.8.13"
  }
 },
 "nbformat": 4,
 "nbformat_minor": 5
}
